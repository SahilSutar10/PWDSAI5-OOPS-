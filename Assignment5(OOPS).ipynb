{
  "nbformat": 4,
  "nbformat_minor": 0,
  "metadata": {
    "colab": {
      "provenance": []
    },
    "kernelspec": {
      "name": "python3",
      "display_name": "Python 3"
    },
    "language_info": {
      "name": "python"
    }
  },
  "cells": [
    {
      "cell_type": "code",
      "execution_count": null,
      "metadata": {
        "id": "QFlWutf3MuUE"
      },
      "outputs": [],
      "source": [
        "'''1. What are the five key concepts of Object-Oriented Programming (OOP)?\n",
        "The five key concepts of Object-Oriented Programming (OOP) are:\n",
        "\n",
        "a)Encapsulation\n",
        "- Encapsulation is the bundling of data (attributes) and methods (functions) that operate on the data into a single unit called a class.\n",
        "- It restricts direct access to some of an object's components, which is achieved through access modifiers (e.g., public, private, protected).\n",
        "- Encapsulation promotes modularity and helps protect the integrity of the data by providing controlled access.\n",
        "\n",
        "b)Abstraction\n",
        "- Abstraction involves hiding the complex implementation details of a system and exposing only the necessary and relevant parts.\n",
        "- This is typically achieved through abstract classes or interfaces.\n",
        "- Abstraction helps reduce complexity and improve code maintainability by focusing on \"what\" an object does rather than \"how\" it does it.\n",
        "\n",
        "c)Inheritance\n",
        "- Inheritance allows one class (child or subclass) to inherit the attributes and methods of another class (parent or superclass).\n",
        "- This promotes code reuse and establishes a hierarchical relationship between classes.\n",
        "- It also allows for the extension or customization of behavior in the subclass.\n",
        "\n",
        "d)Polymorphism\n",
        "- Polymorphism enables a single interface to represent different types of behavior.\n",
        "- This can occur through method overloading (same method name with different parameters) or method overriding (redefining a method in a subclass).\n",
        "- It allows objects of different classes to be treated as objects of a common superclass, enhancing flexibility and scalability.\n",
        "\n",
        "e)Composition (or Association)\n",
        "Composition refers to the design principle where objects are composed of other objects.\n",
        "Instead of inheriting functionality, a class can achieve its behavior by containing instances of other classes as part of its properties.\n",
        "This principle promotes a \"has-a\" relationship rather than an \"is-a\" relationship (used in inheritance).\n",
        "These principles work together to create robust, reusable, and maintainable code in OOP systems.'''"
      ]
    },
    {
      "cell_type": "code",
      "source": [
        "# 2. Write a Python class for a `Car` with attributes for `make`, `model`, and `year`. Include a method to display the car's information.\n",
        "class Car:\n",
        "    def __init__(self, make, model, year):\n",
        "        \"\"\"Initialize the attributes of the car.\"\"\"\n",
        "        self.make = make\n",
        "        self.model = model\n",
        "        self.year = year\n",
        "\n",
        "    def display_info(self):\n",
        "        \"\"\"Display the car's information.\"\"\"\n",
        "        return f\"{self.year} {self.make} {self.model}\"\n",
        "\n",
        "# Example usage:\n",
        "my_car = Car(\"Hyundai\", \"Creta\", 2024)\n",
        "print(my_car.display_info())  # Outputs: 2024 Hyundai Creta\n"
      ],
      "metadata": {
        "id": "kjcOrdpEN2Ti",
        "colab": {
          "base_uri": "https://localhost:8080/"
        },
        "outputId": "7d156441-881c-4add-b001-1c0f854d12f6"
      },
      "execution_count": 1,
      "outputs": [
        {
          "output_type": "stream",
          "name": "stdout",
          "text": [
            "2024 Hyundai Creta\n"
          ]
        }
      ]
    },
    {
      "cell_type": "code",
      "source": [
        "# 3. Explain the difference between instance methods and class methods. Provide an example of each.\n",
        "'''In Python, instance methods and class methods are two types of methods that belong to a class but differ in how they are defined and accessed.\n",
        "Instance Methods\n",
        "Definition: Methods that operate on an instance of the class.\n",
        "Access: They can access and modify the instance’s attributes.\n",
        "Decorator: No special decorator is needed (default behavior).\n",
        "Parameter: The first parameter is self, representing the instance of the class.'''\n",
        "#Example:\n",
        "\n",
        "class InstanceExample:\n",
        "    def __init__(self, value):\n",
        "        self.value = value\n",
        "\n",
        "    def increment_value(self):\n",
        "        self.value += 1  # Modifies the instance attribute\n",
        "        return self.value\n",
        "\n",
        "# Usage\n",
        "obj = InstanceExample(50)\n",
        "print(obj.increment_value())  # Outputs: 51\n",
        "\n",
        "'''Class Methods\n",
        "Definition: Methods that operate on the class itself, not on specific instances.\n",
        "Access: They can modify or access class-level attributes.\n",
        "Decorator: Defined using the @classmethod decorator.\n",
        "Parameter: The first parameter is cls, representing the class itself.'''\n",
        "#Example:\n",
        "\n",
        "class ClassExample:\n",
        "    count = 9  # Class-level attribute\n",
        "\n",
        "    @classmethod\n",
        "    def increment_count(cls):\n",
        "        cls.count += 1  # Modifies the class-level attribute\n",
        "        return cls.count\n",
        "\n",
        "# Usage\n",
        "print(ClassExample.increment_count())  # Outputs: 10\n",
        "print(ClassExample.increment_count())  # Outputs: 11\n"
      ],
      "metadata": {
        "colab": {
          "base_uri": "https://localhost:8080/"
        },
        "id": "qnOk7HY6O4Bh",
        "outputId": "527b20ae-1c1e-4985-a50c-1284e2a6fa81"
      },
      "execution_count": 3,
      "outputs": [
        {
          "output_type": "stream",
          "name": "stdout",
          "text": [
            "51\n",
            "10\n",
            "11\n"
          ]
        }
      ]
    },
    {
      "cell_type": "code",
      "source": [
        " # 4. How does Python implement method overloading? Give an example.\n",
        "#Python does not directly support method overloading in the traditional sense as seen in other programming languages like Java or C++.\n",
        "#In Python, you cannot define multiple methods with the same name but different numbers or types of arguments in the same class.\n",
        "#Instead, Python achieves method overloading functionality through default arguments and dynamic arguments (*args and **kwargs).\n",
        "\n",
        "#Example: Using Default Arguments\n",
        "class Calculator:\n",
        "    def add(self, a, b=0, c=0):\n",
        "        \"\"\"Adds up to three numbers.\"\"\"\n",
        "        return a + b + c\n",
        "\n",
        "# Usage\n",
        "calc = Calculator()\n",
        "print(calc.add(5))         # Outputs: 5\n",
        "print(calc.add(5, 7))      # Outputs: 12\n",
        "print(calc.add(5, 10, 25)) # Outputs: 40\n",
        "\n",
        "#Here:\n",
        "#The add method can handle 1, 2, or 3 arguments by using default values for b and c.\n",
        "#Example: Using Dynamic Arguments (*args)\n",
        "class Calculator:\n",
        "    def add(self, *args):\n",
        "        \"\"\"Adds an arbitrary number of numbers.\"\"\"\n",
        "        return sum(args)\n",
        "\n",
        "# Usage\n",
        "calc = Calculator()\n",
        "print(calc.add(5))                # Outputs: 5\n",
        "print(calc.add(5, 10))            # Outputs: 15\n",
        "print(calc.add(5, 10, 25))        # Outputs: 40\n",
        "\n",
        "'''Here:\n",
        "The add method uses *args to accept a variable number of arguments, enabling flexible overloading behavior.\n",
        "Key Notes:\n",
        "Python emphasizes simplicity and avoids the complexity of traditional method overloading by leveraging dynamic typing and flexible argument handling.\n",
        "If more specialized behavior is required for different argument types, you can use conditional logic within a single method:'''\n",
        "class Display:\n",
        "    def show(self, data):\n",
        "        if isinstance(data, int):\n",
        "            print(f\"Integer: {data}\")\n",
        "        elif isinstance(data, str):\n",
        "            print(f\"String: {data}\")\n",
        "        else:\n",
        "            print(f\"Unsupported type: {type(data)}\")\n",
        "\n",
        "# Usage\n",
        "d = Display()\n",
        "d.show(10)           # Outputs: Integer: 10\n",
        "d.show(\"Sahil\")      # Outputs: String: Sahil\n",
        "#This dynamic approach eliminates the need for traditional overloading mechanisms.\n"
      ],
      "metadata": {
        "colab": {
          "base_uri": "https://localhost:8080/"
        },
        "id": "Gimfp-b_QbXI",
        "outputId": "98fde717-ff25-4ef0-fa1e-b99c61abecd3"
      },
      "execution_count": 7,
      "outputs": [
        {
          "output_type": "stream",
          "name": "stdout",
          "text": [
            "5\n",
            "12\n",
            "40\n",
            "5\n",
            "15\n",
            "40\n",
            "Integer: 10\n",
            "String: Sahil\n"
          ]
        }
      ]
    },
    {
      "cell_type": "code",
      "source": [
        "# 5. What are the three types of access modifiers in Python? How are they denoted?\n",
        "'''In Python, there are three types of access modifiers, which determine the level of access control for class attributes and methods.\n",
        "These modifiers are:\n",
        "1. Public\n",
        "Denoted by: No special prefix (e.g., self.attribute)\n",
        "Accessibility: Public members can be accessed from anywhere — inside the class, outside the class, or even from subclasses.\n",
        "Example:'''\n",
        "\n",
        "class Example:\n",
        "    def __init__(self):\n",
        "        self.public_var = \"I am public\"\n",
        "\n",
        "obj = Example()\n",
        "print(obj.public_var)  # Accessible from outside the class\n",
        "\n",
        "'''2. Protected\n",
        "Denoted by: A single underscore prefix (e.g., _self.attribute)\n",
        "Accessibility: Protected members are intended to be accessible within the class and its subclasses, but not directly accessed from outside the class. However, Python does not strictly enforce this; it is a convention.\n",
        "Example:'''\n",
        "\n",
        "class Example:\n",
        "    def __init__(self):\n",
        "        self._protected_var = \"I am protected\"\n",
        "\n",
        "obj = Example()\n",
        "print(obj._protected_var)  # Technically accessible, but discouraged\n",
        "\n",
        "'''3. Private\n",
        "Denoted by: A double underscore prefix (e.g., __self.attribute)\n",
        "Accessibility: Private members are only accessible within the class. Python implements name mangling to make it harder (but not impossible) to access them from outside the class.\n",
        "Example:'''\n",
        "\n",
        "class Example:\n",
        "    def __init__(self):\n",
        "        self.__private_var = \"I am private\"\n",
        "\n",
        "    def get_private_var(self):\n",
        "        return self.__private_var  # Access private attribute via a method\n",
        "\n",
        "obj = Example()\n",
        "# print(obj.__private_var)  # Raises an AttributeError\n",
        "print(obj.get_private_var())  # Access through a method\n",
        "\n",
        "#Note: Private attributes can still be accessed using name mangling (e.g., _ClassName__private_var), but this is strongly discouraged.\n",
        "#Python relies on conventions for access control rather than strict enforcement, encouraging developers to use these modifiers responsibly."
      ],
      "metadata": {
        "colab": {
          "base_uri": "https://localhost:8080/"
        },
        "id": "RbiPS1UASTTu",
        "outputId": "50b0f379-3425-4096-ebe1-e513dd40c172"
      },
      "execution_count": 8,
      "outputs": [
        {
          "output_type": "stream",
          "name": "stdout",
          "text": [
            "I am public\n",
            "I am protected\n",
            "I am private\n"
          ]
        }
      ]
    },
    {
      "cell_type": "code",
      "source": [
        "#  6. Describe the five types of inheritance in Python. Provide a simple example of multiple inheritance.\n",
        "'''Types of Inheritance in Python\n",
        "Inheritance in Python allows a class (child class) to inherit attributes and methods from another class (parent class).\n",
        "There are five types of inheritance:\n",
        "a) Single Inheritance\n",
        "A child class inherits from a single parent class.\n",
        "Example:'''\n",
        "class Parent:\n",
        "    def greet(self):\n",
        "        return \"Hello from Parent\"\n",
        "\n",
        "class Child(Parent):\n",
        "    pass\n",
        "\n",
        "obj = Child()\n",
        "print(obj.greet())  # Outputs: Hello from Parent\n",
        "\n",
        "'''b)Multiple Inheritance\n",
        "A child class inherits from multiple parent classes.\n",
        "Example:'''\n",
        "class Parent1:\n",
        "    def greet(self):\n",
        "        return \"Hello from Parent1\"\n",
        "\n",
        "class Parent2:\n",
        "    def welcome(self):\n",
        "        return \"Welcome from Parent2\"\n",
        "\n",
        "class Child(Parent1, Parent2):\n",
        "    pass\n",
        "\n",
        "obj = Child()\n",
        "print(obj.greet())   # Outputs: Hello from Parent1\n",
        "print(obj.welcome()) # Outputs: Welcome from Parent2\n",
        "\n",
        "'''c)Multilevel Inheritance\n",
        "A child class inherits from a parent class, and another class inherits from that child class, forming a chain.\n",
        "Example:'''\n",
        "class Grandparent:\n",
        "    def greet(self):\n",
        "        return \"Hello from Grandparent\"\n",
        "\n",
        "class Parent(Grandparent):\n",
        "    pass\n",
        "\n",
        "class Child(Parent):\n",
        "    pass\n",
        "\n",
        "obj = Child()\n",
        "print(obj.greet())  # Outputs: Hello from Grandparent\n",
        "\n",
        "'''d)Hierarchical Inheritance\n",
        "Multiple child classes inherit from the same parent class.\n",
        "Example:'''\n",
        "class Parent:\n",
        "    def greet(self):\n",
        "        return \"Hello from Parent\"\n",
        "\n",
        "class Child1(Parent):\n",
        "    pass\n",
        "\n",
        "class Child2(Parent):\n",
        "    pass\n",
        "\n",
        "obj1 = Child1()\n",
        "obj2 = Child2()\n",
        "print(obj1.greet())  # Outputs: Hello from Parent\n",
        "print(obj2.greet())  # Outputs: Hello from Parent\n",
        "\n",
        "'''e)Hybrid Inheritance\n",
        "A combination of multiple inheritance types (e.g., single, multiple, hierarchical) to form a more complex structure.\n",
        "Example:'''\n",
        "class Parent:\n",
        "    def greet(self):\n",
        "        return \"Hello from Parent\"\n",
        "\n",
        "class Child1(Parent):\n",
        "    pass\n",
        "\n",
        "class Child2(Parent):\n",
        "    pass\n",
        "\n",
        "class Grandchild(Child1, Child2):\n",
        "    pass\n",
        "\n",
        "obj = Grandchild()\n",
        "print(obj.greet())  # Outputs: Hello from Parent\n",
        "\n",
        "#Example of Multiple Inheritance\n",
        "class Engine:\n",
        "    def start(self):\n",
        "        return \"Engine started\"\n",
        "\n",
        "class Wheels:\n",
        "    def roll(self):\n",
        "        return \"Wheels rolling\"\n",
        "\n",
        "class Car(Engine, Wheels):\n",
        "    def drive(self):\n",
        "        return \"Car is driving\"\n",
        "\n",
        "# Usage\n",
        "my_car = Car()\n",
        "print(my_car.start())  # Outputs: Engine started\n",
        "print(my_car.roll())   # Outputs: Wheels rolling\n",
        "print(my_car.drive())  # Outputs: Car is driving\n",
        "\n",
        "#Here, the Car class inherits functionality from both Engine and Wheels, demonstrating multiple inheritance."
      ],
      "metadata": {
        "colab": {
          "base_uri": "https://localhost:8080/"
        },
        "id": "p2yrepSATHXF",
        "outputId": "cfb5f2d6-ae3f-4a50-96a0-ded96c964f74"
      },
      "execution_count": 11,
      "outputs": [
        {
          "output_type": "stream",
          "name": "stdout",
          "text": [
            "Hello from Parent\n",
            "Hello from Parent1\n",
            "Welcome from Parent2\n",
            "Hello from Grandparent\n",
            "Hello from Parent\n",
            "Hello from Parent\n",
            "Hello from Parent\n",
            "Engine started\n",
            "Wheels rolling\n",
            "Car is driving\n"
          ]
        }
      ]
    },
    {
      "cell_type": "code",
      "source": [
        "# 7. What is the Method Resolution Order (MRO) in Python? How can you retrieve it programmatically?\n",
        "'''The Method Resolution Order (MRO) in Python defines the sequence in which a class's methods and attributes are searched when invoked. This is particularly important in the context of multiple inheritance, where a class inherits from multiple parent classes.\n",
        "Python uses the C3 linearization algorithm (or C3 superclass linearization) to determine the MRO. This algorithm ensures:\n",
        "Consistency: The order of method resolution respects the inheritance hierarchy.\n",
        "Left-to-right order: In the case of multiple inheritance, the order in which parent classes are listed in the child class definition matters.\n",
        "How to Retrieve MRO Programmatically?\n",
        "You can retrieve the MRO for a class using:\n",
        "The __mro__ attribute.\n",
        "The mro() method.\n",
        "Example:'''\n",
        "\n",
        "class A:\n",
        "    pass\n",
        "\n",
        "class B(A):\n",
        "    pass\n",
        "\n",
        "class C(A):\n",
        "    pass\n",
        "\n",
        "class D(B, C):\n",
        "    pass\n",
        "\n",
        "# Retrieve MRO using __mro__ attribute\n",
        "print(D.__mro__)\n",
        "# Output: (<class '__main__.D'>, <class '__main__.B'>, <class '__main__.C'>, <class '__main__.A'>, <class 'object'>)\n",
        "\n",
        "# Retrieve MRO using mro() method\n",
        "print(D.mro())\n",
        "# Output: [<class '__main__.D'>, <class '__main__.B'>, <class '__main__.C'>, <class '__main__.A'>, <class 'object'>]\n",
        "\n",
        "'''Understanding the Output\n",
        "The MRO starts with the class itself (D).\n",
        "It then searches its immediate parents (B and C) in the order they are listed in the class definition.\n",
        "It continues to search the ancestors (A) and eventually the base object class.\n",
        "Why MRO is Important?\n",
        "Avoids Ambiguity: Ensures that the correct method or attribute is resolved when multiple parent classes define the same member.\n",
        "Consistency: Guarantees that the search order is deterministic.\n",
        "Debugging: Knowing the MRO helps understand how Python resolves methods in complex inheritance hierarchies.\n",
        "Example of MRO Impact'''\n",
        "class A:\n",
        "    def greet(self):\n",
        "        return \"Hello from A\"\n",
        "\n",
        "class B(A):\n",
        "    def greet(self):\n",
        "        return \"Hello from B\"\n",
        "\n",
        "class C(A):\n",
        "    pass\n",
        "\n",
        "class D(B, C):\n",
        "    pass\n",
        "\n",
        "d = D()\n",
        "print(d.greet())  # Outputs: Hello from B\n",
        "\n",
        "'''In this case:\n",
        "The MRO for D is: D -> B -> C -> A -> object.\n",
        "The greet() method is resolved in B, as it appears first in the MRO.'''"
      ],
      "metadata": {
        "colab": {
          "base_uri": "https://localhost:8080/",
          "height": 87
        },
        "id": "cLZyz5dcT2EN",
        "outputId": "c9e529e8-4439-4d12-954b-0a48a62ab3b6"
      },
      "execution_count": 12,
      "outputs": [
        {
          "output_type": "stream",
          "name": "stdout",
          "text": [
            "(<class '__main__.D'>, <class '__main__.B'>, <class '__main__.C'>, <class '__main__.A'>, <class 'object'>)\n",
            "[<class '__main__.D'>, <class '__main__.B'>, <class '__main__.C'>, <class '__main__.A'>, <class 'object'>]\n",
            "Hello from B\n"
          ]
        },
        {
          "output_type": "execute_result",
          "data": {
            "text/plain": [
              "'In this case:\\nThe MRO for D is: D -> B -> C -> A -> object.\\nThe greet() method is resolved in B, as it appears first in the MRO.'"
            ],
            "application/vnd.google.colaboratory.intrinsic+json": {
              "type": "string"
            }
          },
          "metadata": {},
          "execution_count": 12
        }
      ]
    },
    {
      "cell_type": "code",
      "source": [
        "# 8. Create an abstract base class `Shape` with an abstract method `area()`. Then create two subclasses `Circle` and `Rectangle` that implement the `area()` method.\n",
        "#Here’s an implementation of an abstract base class Shape with two subclasses, Circle and Rectangle, implementing the area() method:\n",
        "from abc import ABC, abstractmethod\n",
        "import math\n",
        "\n",
        "# Abstract Base Class\n",
        "class Shape(ABC):\n",
        "    @abstractmethod\n",
        "    def area(self):\n",
        "        \"\"\"Calculate the area of the shape.\"\"\"\n",
        "        pass\n",
        "\n",
        "# Subclass: Circle\n",
        "class Circle(Shape):\n",
        "    def __init__(self, radius):\n",
        "        self.radius = radius\n",
        "\n",
        "    def area(self):\n",
        "        return math.pi * self.radius ** 2\n",
        "\n",
        "# Subclass: Rectangle\n",
        "class Rectangle(Shape):\n",
        "    def __init__(self, width, height):\n",
        "        self.width = width\n",
        "        self.height = height\n",
        "\n",
        "    def area(self):\n",
        "        return self.width * self.height\n",
        "\n",
        "# Example Usage\n",
        "circle = Circle(radius=10)\n",
        "rectangle = Rectangle(width=5, height=9)\n",
        "\n",
        "print(f\"Area of Circle: {circle.area():.2f}\")     # Outputs: Area of Circle: 314.16\n",
        "print(f\"Area of Rectangle: {rectangle.area()}\")  # Outputs: Area of Rectangle: 45\n",
        "\n",
        "'''Explanation\n",
        "Abstract Base Class (Shape):\n",
        "Defined using the ABC class from the abc module.\n",
        "The area() method is decorated with @abstractmethod, making it mandatory for subclasses to implement.\n",
        "\n",
        "Subclass: Circle:\n",
        "Implements the area() method to calculate the area of a circle using the formula\n",
        "πr**2.\n",
        " .\n",
        "Subclass: Rectangle:\n",
        "Implements the area() method to calculate the area of a rectangle using the formula\n",
        "width × height.\n",
        "Usage:\n",
        "Instantiating Shape directly will result in an error because it contains an abstract method.\n",
        "Circle and Rectangle provide concrete implementations for the area() method, allowing instances of these classes to be created and used.'''"
      ],
      "metadata": {
        "colab": {
          "base_uri": "https://localhost:8080/"
        },
        "id": "K2ipA_s8UqTs",
        "outputId": "8115606e-e1a5-49ff-865f-2750beeb61bd"
      },
      "execution_count": 14,
      "outputs": [
        {
          "output_type": "stream",
          "name": "stdout",
          "text": [
            "Area of Circle: 314.16\n",
            "Area of Rectangle: 45\n"
          ]
        }
      ]
    },
    {
      "cell_type": "code",
      "source": [
        "# 9. Demonstrate polymorphism by creating a function that can work with different shape objects to calculate and print their areas.\n",
        "#Here’s an example demonstrating polymorphism in Python, where a function can work with objects of different Shape subclasses to calculate and print their areas:\n",
        "from abc import ABC, abstractmethod\n",
        "import math\n",
        "\n",
        "# Abstract Base Class\n",
        "class Shape(ABC):\n",
        "    @abstractmethod\n",
        "    def area(self):\n",
        "        \"\"\"Calculate the area of the shape.\"\"\"\n",
        "        pass\n",
        "\n",
        "# Subclass: Circle\n",
        "class Circle(Shape):\n",
        "    def __init__(self, radius):\n",
        "        self.radius = radius\n",
        "\n",
        "    def area(self):\n",
        "        return math.pi * self.radius ** 2\n",
        "\n",
        "# Subclass: Rectangle\n",
        "class Rectangle(Shape):\n",
        "    def __init__(self, width, height):\n",
        "        self.width = width\n",
        "        self.height = height\n",
        "\n",
        "    def area(self):\n",
        "        return self.width * self.height\n",
        "\n",
        "# Polymorphic function\n",
        "def print_area(shape):\n",
        "    \"\"\"Accepts any Shape object and prints its area.\"\"\"\n",
        "    if isinstance(shape, Shape):  # Ensures it's a Shape instance\n",
        "        print(f\"The area is: {shape.area():.2f}\")\n",
        "    else:\n",
        "        print(\"Invalid shape object!\")\n",
        "\n",
        "# Example Usage\n",
        "circle = Circle(radius=5)\n",
        "rectangle = Rectangle(width=4, height=6)\n",
        "\n",
        "print_area(circle)     # Outputs: The area is: 78.54\n",
        "print_area(rectangle)  # Outputs: The area is: 24.00\n",
        "\n",
        "'''How Polymorphism Works Here:\n",
        "Polymorphic Behavior:\n",
        "The print_area function takes a Shape object as input, but it does not need to know the specific type of shape (e.g., Circle or Rectangle).\n",
        "It calls the area() method, and Python dynamically determines which implementation to invoke based on the object type.\n",
        "\n",
        "Extensibility:\n",
        "The print_area function can handle any future subclass of Shape that implements the area() method without modification.\n",
        "\n",
        "Benefits:\n",
        "Encourages code reusability and flexibility.\n",
        "Demonstrates how objects of different types can be treated uniformly as long as they adhere to the same interface (i.e., implement the area() method).'''"
      ],
      "metadata": {
        "colab": {
          "base_uri": "https://localhost:8080/"
        },
        "id": "SeU73psHVpYr",
        "outputId": "273f88a9-013e-410a-ef85-684eac9ee862"
      },
      "execution_count": 15,
      "outputs": [
        {
          "output_type": "stream",
          "name": "stdout",
          "text": [
            "The area is: 78.54\n",
            "The area is: 24.00\n"
          ]
        }
      ]
    },
    {
      "cell_type": "code",
      "source": [
        "#  10. Implement encapsulation in a `BankAccount` class with private attributes for `balance` and `account_number`. Include methods for deposit, withdrawal, and balance inquiry.\n",
        "#Here’s an implementation of encapsulation in a BankAccount class, where the attributes balance and account_number are private. Methods are provided for depositing, withdrawing, and inquiring the balance.\n",
        "class BankAccount:\n",
        "    def __init__(self, account_number, initial_balance=0):\n",
        "        self.__account_number = account_number  # Private attribute for account number\n",
        "        self.__balance = initial_balance        # Private attribute for balance\n",
        "\n",
        "    # Method to deposit money into the account\n",
        "    def deposit(self, amount):\n",
        "        if amount > 0:\n",
        "            self.__balance += amount\n",
        "            print(f\"Deposited: ${amount}. Current balance: ${self.__balance}.\")\n",
        "        else:\n",
        "            print(\"Deposit amount must be positive.\")\n",
        "\n",
        "    # Method to withdraw money from the account\n",
        "    def withdraw(self, amount):\n",
        "        if amount > 0 and amount <= self.__balance:\n",
        "            self.__balance -= amount\n",
        "            print(f\"Withdrew: ${amount}. Current balance: ${self.__balance}.\")\n",
        "        elif amount > self.__balance:\n",
        "            print(\"Insufficient funds for this withdrawal.\")\n",
        "        else:\n",
        "            print(\"Withdrawal amount must be positive.\")\n",
        "\n",
        "    # Method to check the balance of the account\n",
        "    def get_balance(self):\n",
        "        return self.__balance\n",
        "\n",
        "    # Method to get the account number (private, accessed via a method)\n",
        "    def get_account_number(self):\n",
        "        return self.__account_number\n",
        "\n",
        "# Example Usage\n",
        "account = BankAccount(account_number=\"123456789\", initial_balance=2000)\n",
        "\n",
        "# Deposit money\n",
        "account.deposit(500)\n",
        "\n",
        "# Withdraw money\n",
        "account.withdraw(200)\n",
        "\n",
        "# Check balance\n",
        "print(f\"Current balance: ${account.get_balance()}\")\n",
        "\n",
        "# Access the account number (via method, not directly)\n",
        "print(f\"Account number: {account.get_account_number()}\")\n",
        "\n",
        "'''Explanation of Encapsulation:\n",
        "Private Attributes (__balance and __account_number):\n",
        "Both balance and account_number are private attributes, denoted by the double underscore prefix (__). This prevents them from being directly accessed or modified from outside the class.\n",
        "To access or modify these private attributes, methods are provided, such as deposit(), withdraw(), and get_balance().\n",
        "\n",
        "Methods:\n",
        "deposit(amount): Allows the user to deposit money into the account if the amount is positive.\n",
        "withdraw(amount): Allows the user to withdraw money from the account, ensuring that the withdrawal does not exceed the balance.\n",
        "get_balance(): Allows the user to inquire about the current balance.\n",
        "get_account_number(): Provides access to the private account_number.'''\n"
      ],
      "metadata": {
        "colab": {
          "base_uri": "https://localhost:8080/"
        },
        "id": "o4vDmX6sWRXc",
        "outputId": "f26e78f5-1768-4376-df96-10e3b9a48076"
      },
      "execution_count": 17,
      "outputs": [
        {
          "output_type": "stream",
          "name": "stdout",
          "text": [
            "Deposited: $500. Current balance: $2500.\n",
            "Withdrew: $200. Current balance: $2300.\n",
            "Current balance: $2300\n",
            "Account number: 123456789\n"
          ]
        }
      ]
    },
    {
      "cell_type": "code",
      "source": [
        "#  11. Write a class that overrides the `__str__` and `__add__` magic methods. What will these methods allow you to do?\n",
        "'''In Python, the __str__ and __add__ magic methods allow you to customize the behavior of objects when:\n",
        "Converting an object to a string (using str() or print()).\n",
        "Performing addition between objects using the + operator.\n",
        "Here's an example where we override both methods in a class called Point:\n",
        "Example'''\n",
        "class Point:\n",
        "    def __init__(self, x, y):\n",
        "        self.x = x\n",
        "        self.y = y\n",
        "\n",
        "    # Override __str__ method to define a string representation of the object\n",
        "    def __str__(self):\n",
        "        return f\"Point({self.x}, {self.y})\"\n",
        "\n",
        "    # Override __add__ method to define addition behavior between two Point objects\n",
        "    def __add__(self, other):\n",
        "        if isinstance(other, Point):\n",
        "            # Return a new Point object that represents the sum of the x and y coordinates\n",
        "            return Point(self.x + other.x, self.y + other.y)\n",
        "        return NotImplemented\n",
        "\n",
        "# Example Usage\n",
        "point1 = Point(3, 4)\n",
        "point2 = Point(1, 2)\n",
        "\n",
        "# Using __str__ method (implicitly called by print() or str())\n",
        "print(point1)  # Outputs: Point(3, 4)\n",
        "\n",
        "# Using __add__ method to add two Point objects\n",
        "point3 = point1 + point2\n",
        "print(point3)  # Outputs: Point(4, 6)\n",
        "\n",
        "'''Explanation:\n",
        "__str__ Method:\n",
        "The __str__ method is used to define how the object should be represented as a string. When you call str() on an object or print the object directly, Python automatically calls the __str__ method.\n",
        "In the Point class, the __str__ method returns a string representation like \"Point(x, y)\" for a point with coordinates (x, y).\n",
        "What this allows: The object can be printed in a more human-readable form instead of the default memory address format.\n",
        "\n",
        "__add__ Method:\n",
        "The __add__ method allows you to define the behavior of the + operator when used with objects of the class.\n",
        "In the Point class, when you use the + operator between two Point objects, it adds their x and y coordinates separately and returns a new Point object with the sum of the coordinates.\n",
        "What this allows: It enables you to use the + operator to \"add\" two Point objects, which can be useful for geometric computations, such as adding coordinates of two points in a 2D space.'''"
      ],
      "metadata": {
        "colab": {
          "base_uri": "https://localhost:8080/"
        },
        "id": "OS4TD8aPXHQC",
        "outputId": "4cdb0150-4a73-4038-a547-370670faabcb"
      },
      "execution_count": 18,
      "outputs": [
        {
          "output_type": "stream",
          "name": "stdout",
          "text": [
            "Point(3, 4)\n",
            "Point(4, 6)\n"
          ]
        }
      ]
    },
    {
      "cell_type": "code",
      "source": [
        "#  12. Create a decorator that measures and prints the execution time of a function.\n",
        "# To create a decorator that measures and prints the execution time of a function, you can use the time module to capture the start and end times of the function execution. Here’s how you can implement it:\n",
        "import time\n",
        "\n",
        "# Decorator to measure execution time\n",
        "def measure_execution_time(func):\n",
        "    def wrapper(*args, **kwargs):\n",
        "        start_time = time.time()  # Capture start time\n",
        "        result = func(*args, **kwargs)  # Call the original function\n",
        "        end_time = time.time()  # Capture end time\n",
        "\n",
        "        # Calculate the execution time\n",
        "        execution_time = end_time - start_time\n",
        "        print(f\"Execution time of '{func.__name__}': {execution_time:.4f} seconds\")\n",
        "\n",
        "        return result\n",
        "    return wrapper\n",
        "\n",
        "# Example usage\n",
        "\n",
        "# A sample function to demonstrate the decorator\n",
        "@measure_execution_time\n",
        "def slow_function():\n",
        "    time.sleep(2)  # Simulating a slow function (2 seconds)\n",
        "\n",
        "# Calling the function\n",
        "slow_function()\n",
        "\n",
        "'''Explanation:\n",
        "The Decorator (measure_execution_time):\n",
        "This decorator takes a function (func) as an argument.\n",
        "It defines a wrapper function that:\n",
        "Records the start time using time.time().\n",
        "Executes the original function (func) with the provided arguments (*args, **kwargs).\n",
        "Records the end time after the function execution.\n",
        "Calculates the execution time by subtracting the start time from the end time.\n",
        "Prints the execution time.\n",
        "Finally, the wrapper function is returned.\n",
        "\n",
        "Usage:\n",
        "The @measure_execution_time decorator is applied to the slow_function(). This means that when slow_function() is called, the execution time will be measured and printed.\n",
        "The slow_function() in this example simulates a slow function by calling time.sleep(2), which pauses the execution for 2 seconds.'''"
      ],
      "metadata": {
        "colab": {
          "base_uri": "https://localhost:8080/"
        },
        "id": "EZUo4ACVZatk",
        "outputId": "0b6963be-b0b0-4722-dc00-56a463055f38"
      },
      "execution_count": 22,
      "outputs": [
        {
          "output_type": "stream",
          "name": "stdout",
          "text": [
            "Execution time of 'slow_function': 2.0019 seconds\n"
          ]
        }
      ]
    },
    {
      "cell_type": "code",
      "source": [
        " # 13. Explain the concept of the Diamond Problem in multiple inheritance. How does Python resolve it?\n",
        " '''The Diamond Problem occurs in object-oriented programming when a class inherits from two classes that both inherit from a common ancestor.\n",
        "This can lead to ambiguity about which method or attribute to use if both parent classes have overridden the same method or attribute from the common ancestor.'''\n",
        "class A:\n",
        "    def method(self):\n",
        "        print(\"Method in class A\")\n",
        "\n",
        "class B(A):\n",
        "    def method(self):\n",
        "        print(\"Method in class B\")\n",
        "\n",
        "class C(A):\n",
        "    def method(self):\n",
        "        print(\"Method in class C\")\n",
        "\n",
        "class D(B, C):\n",
        "    pass\n",
        "\n",
        "# Create an instance of D\n",
        "d = D()\n",
        "d.method()  # Which method will be called?\n",
        "\n",
        "'''How Python Resolves the Diamond Problem\n",
        "Python uses a mechanism called Method Resolution Order (MRO) to resolve such ambiguities. The MRO defines the order in which Python will search for a method in the class hierarchy when multiple inheritance is involved.\n",
        "\n",
        "Method Resolution Order (MRO):\n",
        "MRO is the order in which classes are searched when calling a method or accessing an attribute.\n",
        "Python uses the C3 Linearization algorithm to compute the MRO. This algorithm ensures that the classes are checked in a specific order, respecting the inheritance hierarchy and avoiding ambiguity.\n",
        "MRO in Action:\n",
        "You can view the MRO for any class in Python using the mro() method or by accessing the __mro__ attribute:'''\n",
        "\n",
        "print(D.mro())  # Outputs the MRO for class D\n",
        "\n",
        "'''Output:\n",
        "[<class '__main__.D'>, <class '__main__.B'>, <class '__main__.C'>, <class '__main__.A'>, <class 'object'>]\n",
        "This shows the order in which Python will look for the method():\n",
        "First, Python will check class D.\n",
        "Then, it will check class B.\n",
        "Next, it will check class C.\n",
        "Finally, it will check class A.\n",
        "In our example:\n",
        "When d.method() is called:\n",
        "Python will first look for method() in class D, but it is not defined there.\n",
        "Next, it will look in class B (since D inherits from B first), and method() is found in class B.\n",
        "Thus, the method from class B will be called, not from class C.\n",
        "\n",
        "C3 Linearization:\n",
        "The C3 Linearization ensures that the method resolution order respects the inheritance hierarchy and the order of the base classes in the inheritance list.\n",
        "For the class D, the MRO is computed by:\n",
        "Looking at D's parents (B and C).\n",
        "Merging their MROs (first B, then C).\n",
        "The final MRO for D is [D, B, C, A, object].\n",
        "This method resolution order guarantees that Python can resolve method calls without ambiguity, even in complex multiple inheritance scenarios.'''\n"
      ],
      "metadata": {
        "colab": {
          "base_uri": "https://localhost:8080/"
        },
        "id": "oPI9StC5Zuk1",
        "outputId": "2310ab6c-f7f6-4984-b439-07173eeb8bc8"
      },
      "execution_count": 25,
      "outputs": [
        {
          "output_type": "stream",
          "name": "stdout",
          "text": [
            "Method in class B\n",
            "[<class '__main__.D'>, <class '__main__.B'>, <class '__main__.C'>, <class '__main__.A'>, <class 'object'>]\n"
          ]
        }
      ]
    },
    {
      "cell_type": "code",
      "source": [
        "# 14. Write a class method that keeps track of the number of instances created from a class.\n",
        "# To keep track of the number of instances created from a class, you can use a class variable. A class method can then access and modify this variable to update the instance count whenever a new instance of the class is created.\n",
        "class MyClass:\n",
        "    # Class variable to track the number of instances\n",
        "    instance_count = 0\n",
        "\n",
        "    def __init__(self):\n",
        "        # Increment the instance count every time a new object is created\n",
        "        MyClass.instance_count += 1\n",
        "\n",
        "    @classmethod\n",
        "    def get_instance_count(cls):\n",
        "        # Class method to return the current instance count\n",
        "        return cls.instance_count\n",
        "\n",
        "# Example usage\n",
        "obj1 = MyClass()\n",
        "obj2 = MyClass()\n",
        "obj3 = MyClass()\n",
        "\n",
        "# Get the current instance count using the class method\n",
        "print(MyClass.get_instance_count())  # Output: 3\n",
        "\n",
        "'''Explanation:\n",
        "Class Variable instance_count:\n",
        "A class variable instance_count is used to keep track of how many instances of MyClass have been created. This variable is shared by all instances of the class.\n",
        "\n",
        "__init__ Method:\n",
        "The __init__ constructor method is called every time a new instance is created. Inside it, the instance_count is incremented by 1 to track the number of instances.\n",
        "\n",
        "get_instance_count Class Method:\n",
        "This class method, defined with the @classmethod decorator, allows you to access the instance_count without needing an instance of the class. It takes the class (cls) as the first parameter, which allows it to access class-level variables (like instance_count).\n",
        "The method returns the current count of instances created from the class.\n",
        "\n",
        "Example Usage:\n",
        "When obj1, obj2, and obj3 are created, the instance_count is incremented each time.\n",
        "Finally, when get_instance_count() is called on the class, it returns the total number of instances created, which is 3 in this case.'''"
      ],
      "metadata": {
        "colab": {
          "base_uri": "https://localhost:8080/"
        },
        "id": "hMfiNkWpahNQ",
        "outputId": "4cc35903-a105-473e-a887-d89e502e48b0"
      },
      "execution_count": 26,
      "outputs": [
        {
          "output_type": "stream",
          "name": "stdout",
          "text": [
            "3\n"
          ]
        }
      ]
    },
    {
      "cell_type": "code",
      "source": [
        "#  15. Implement a static method in a class that checks if a given year is a leap year.\n",
        "'''To implement a static method in a class that checks whether a given year is a leap year, you can define the method using the @staticmethod decorator. A static method doesn’t take self or cls as its first parameter, and it can be called on the class itself or on an instance of the class.\n",
        "It doesn’t depend on the instance or the class state.\n",
        "Here’s the implementation:'''\n",
        "class YearUtils:\n",
        "    @staticmethod\n",
        "    def is_leap_year(year):\n",
        "        # A leap year is divisible by 4, but not divisible by 100 unless it's also divisible by 400\n",
        "        if (year % 4 == 0 and year % 100 != 0) or (year % 400 == 0):\n",
        "            return True\n",
        "        else:\n",
        "            return False\n",
        "\n",
        "# Example usage\n",
        "year = 2024\n",
        "if YearUtils.is_leap_year(year):\n",
        "    print(f\"{year} is a leap year.\")\n",
        "else:\n",
        "    print(f\"{year} is not a leap year.\")\n",
        "\n",
        "# Checking another year\n",
        "year = 2023\n",
        "if YearUtils.is_leap_year(year):\n",
        "    print(f\"{year} is a leap year.\")\n",
        "else:\n",
        "    print(f\"{year} is not a leap year.\")\n",
        "\n",
        "'''Explanation:\n",
        "Static Method is_leap_year(year):\n",
        "The method is_leap_year is decorated with @staticmethod, meaning it doesn’t rely on instance-specific data.\n",
        "It implements the logic for determining whether a year is a leap year:\n",
        "A year is a leap year if it’s divisible by 4, but not divisible by 100, unless it’s also divisible by 400.\n",
        "It returns True if the year is a leap year, and False otherwise.\n",
        "\n",
        "Example Usage:\n",
        "The method can be called directly on the class YearUtils (or on an instance of the class, though this is not necessary for static methods).\n",
        "We check two years: 2024 (which is a leap year) and 2023 (which is not a leap year).'''"
      ],
      "metadata": {
        "colab": {
          "base_uri": "https://localhost:8080/"
        },
        "id": "sw3eq9ABbdFX",
        "outputId": "dbc2af12-2962-42a2-f24e-90f46bc6e6e3"
      },
      "execution_count": 27,
      "outputs": [
        {
          "output_type": "stream",
          "name": "stdout",
          "text": [
            "2024 is a leap year.\n",
            "2023 is not a leap year.\n"
          ]
        }
      ]
    }
  ]
}